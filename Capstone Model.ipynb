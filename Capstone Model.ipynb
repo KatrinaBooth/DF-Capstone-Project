{
 "cells": [
  {
   "cell_type": "markdown",
   "id": "02b710e5-8c24-434a-8e55-41cc7fcca90a",
   "metadata": {},
   "source": [
    "# Capstone Project"
   ]
  },
  {
   "cell_type": "code",
   "execution_count": 5,
   "id": "6056e490-e4cf-47c4-bc35-eabab4ad0619",
   "metadata": {},
   "outputs": [],
   "source": [
    "# Import the required libraries\n",
    "import numpy as np\n",
    "import pandas as pd\n",
    "import matplotlib.pyplot as plt\n",
    "import seaborn as sns\n",
    "from sklearn.model_selection import train_test_split\n",
    "from sklearn.preprocessing import MinMaxScaler\n",
    "from sklearn.feature_selection import RFE\n",
    "from sklearn.linear_model import LinearRegression\n",
    "from sklearn.linear_model import Ridge\n",
    "from sklearn import metrics\n",
    "import pickle"
   ]
  },
  {
   "cell_type": "code",
   "execution_count": 6,
   "id": "62e1aab6-0faf-4278-8eee-e7496467ded9",
   "metadata": {},
   "outputs": [],
   "source": [
    "# Import the dataframe\n",
    "df = pd.read_csv('Top 50 Excerice for your body.csv')"
   ]
  },
  {
   "cell_type": "code",
   "execution_count": 7,
   "id": "6f1781fc-047e-4936-aa04-d9587a0aaf4b",
   "metadata": {},
   "outputs": [],
   "source": [
    "# Exlude the outlier 'Jumping Jacks' because it's significantly (1.5 x IQR) outside of Q3 for the number of reps and the number of calories it burns for its difficulty level.\n",
    "\n",
    "index_to_remove = df[df['Reps'] == 30].index\n",
    "df.drop(index = index_to_remove, inplace = True)"
   ]
  },
  {
   "cell_type": "markdown",
   "id": "a2787fa9-68d8-4dea-bbf9-ecfc3d072685",
   "metadata": {},
   "source": [
    "---"
   ]
  },
  {
   "cell_type": "markdown",
   "id": "0a2f5686-777f-442d-a990-46e8b1d0aee1",
   "metadata": {},
   "source": [
    "## Train Test Splitting"
   ]
  },
  {
   "cell_type": "markdown",
   "id": "ddb48db3-3b5d-4a1f-b73e-4b5b95fac854",
   "metadata": {},
   "source": [
    "I will stratify the training and testing sets based on the area of the body the exercise targets. This is because it has a large effect on the number of calories burned so ensuring similar proportions are split acorss both groups is important."
   ]
  },
  {
   "cell_type": "code",
   "execution_count": 11,
   "id": "b79f9798-db91-4fc3-a76c-21d532388467",
   "metadata": {},
   "outputs": [],
   "source": [
    "# Create a function to split the 'Benefit' columns into 4 categories - Upper body, Lower body, Full body, Core/balance\n",
    "\n",
    "def benefit_cat(benefit):\n",
    "    \n",
    "    if any(keyword in benefit for keyword in ['cardiovascular', 'full-body', 'Combines']):\n",
    "        return 'Full Body'\n",
    "    \n",
    "    elif any(keyword in benefit for keyword in ['abs', 'balance', 'abdominal', 'core']) and 'Improves balance and leg strength' not in benefit and 'Builds unilateral leg strength and balance' not in benefit:\n",
    "        return 'Core/Balance'\n",
    "\n",
    "    elif any(keyword in benefit for keyword in ['upper', 'chest', 'triceps', 'back', 'biceps', 'shoulder']) and 'Strengthens back and legs' not in benefit:\n",
    "        return 'Upper Body'\n",
    "    else:\n",
    "        return 'Lower Body'"
   ]
  },
  {
   "cell_type": "code",
   "execution_count": 12,
   "id": "7cca16f6-f552-425c-9049-b9d4a6f15dc5",
   "metadata": {},
   "outputs": [],
   "source": [
    "# Split the target muscle groups into individual rows, generalise the more specific muscle groups and keep the first row (most targeted muscle)\n",
    "\n",
    "df1 = df.copy()\n",
    "df1['Benefit Category'] = df1['Benefit'].apply(benefit_cat)"
   ]
  },
  {
   "cell_type": "code",
   "execution_count": 13,
   "id": "b1b8607a-9156-485f-9122-3a5318894126",
   "metadata": {},
   "outputs": [],
   "source": [
    "# Split the data into the training and testing sets now stratifying on Benefit Category\n",
    "\n",
    "X = df1[['Name of Exercise', 'Sets', 'Reps', 'Benefit', 'Target Muscle Group', 'Equipment Needed', 'Difficulty Level', 'Benefit Category']]\n",
    "y = df1['Burns Calories (per 30 min)']\n",
    "X_train, X_test, y_train, y_test = train_test_split(X, y, test_size = 0.2, stratify = df1['Benefit Category'], random_state = 10)"
   ]
  },
  {
   "cell_type": "markdown",
   "id": "ff90b40f-5948-45c6-9521-9fe529ebf5fd",
   "metadata": {},
   "source": [
    "---"
   ]
  },
  {
   "cell_type": "markdown",
   "id": "be3a44da-cbe6-42c4-b7e9-21d74840ccc1",
   "metadata": {},
   "source": [
    "## Feature Engineering"
   ]
  },
  {
   "cell_type": "markdown",
   "id": "abe84490-6867-446b-8209-2a20ff4d4a10",
   "metadata": {},
   "source": [
    "**Feature columns**\n",
    "- Sets\n",
    "- Total Reps\n",
    "- Difficulty_Beginner\n",
    "- Target_Biceps\n",
    "- Target_Full Body\n",
    "- Target_Glutes\n",
    "- Target_Legs\n",
    "- Target_Shoulders\n",
    "- Target_Triceps"
   ]
  },
  {
   "cell_type": "code",
   "execution_count": 17,
   "id": "ed75ace6-77f1-4009-97c0-04af8ede797e",
   "metadata": {},
   "outputs": [],
   "source": [
    "# Define a function which applies min-max scaling to the numerical columns.\n",
    "# This scaling method resulted in the best model.\n",
    "\n",
    "def scaling(df, scaled_col_names):\n",
    "    df = df.copy()\n",
    "    \n",
    "    # List the features to be scaled\n",
    "    features = df[scaled_col_names]\n",
    "    \n",
    "    # Fit and transform the scaler on the features to be scaled\n",
    "    scaler = MinMaxScaler().fit(features)\n",
    "    scaled_features = scaler.transform(features)\n",
    "    df[scaled_col_names] = scaled_features\n",
    "    return df"
   ]
  },
  {
   "cell_type": "code",
   "execution_count": 18,
   "id": "5521d2eb-9aee-4d97-83a2-15ae045a3b72",
   "metadata": {},
   "outputs": [],
   "source": [
    "# Create a feature engineering function\n",
    "\n",
    "def feature_eng(df):\n",
    "    df = df.copy()\n",
    "    \n",
    "    # Map equipment to yes - 1 or no - 0\n",
    "    df.fillna(value = 'None', inplace = True)\n",
    "    df['Equipment Needed'] = df['Equipment Needed'].apply(lambda x: 0 if 'None' in x else 1)\n",
    "\n",
    "    # OHE the difficulty level - this performs better than mapping to 0, 1, 2.\n",
    "    df = pd.get_dummies(df, columns = ['Difficulty Level'], drop_first = True, prefix = 'Difficulty', dtype = int)\n",
    "\n",
    "    # Split the target muscle groups into individual rows, generalise the more specific muscle groups and keep the first row (most targeted muscle)\n",
    "    df['Target Muscle Group'] = df['Target Muscle Group'].str.split(', ')\n",
    "    df = df.explode('Target Muscle Group')\n",
    "    df['Target Muscle Group'] = df['Target Muscle Group'].map({'Glutes':'Glutes', 'Core':'Core', 'Shoulders': 'Shoulders', 'Legs': 'Legs',\n",
    "                                                           'Triceps': 'Triceps', 'Back': 'Back', 'Biceps': 'Biceps', 'Chest': 'Chest', \n",
    "                                                           'Full Body': 'Full Body', 'Forearms': 'Forearms', 'Calves': 'Calves', \n",
    "                                                           'Hips': 'Core', 'Full Core': 'Core', 'Lower Chest': 'Chest', 'Upper Chest': 'Chest', \n",
    "                                                           'Hip Flexors': 'Core', 'Obliques': 'Core', 'Lower Back': 'Back', 'Lower Abs': 'Core', \n",
    "                                                           'Rear Deltoids': 'Back', 'Upper Back': 'Back', 'Quadriceps': 'Legs', 'Hamstrings': 'Legs'})\n",
    "    df = df.drop_duplicates(subset='Name of Exercise', keep='first')\n",
    "    df = pd.get_dummies(df, columns = ['Target Muscle Group'], drop_first = True, prefix = 'Target', dtype = int)\n",
    "\n",
    "    # Find the total number of reps for the exercise\n",
    "    df['Total Reps'] = df.apply(lambda row: row['Sets'] * row['Reps'], axis = 1)\n",
    "\n",
    "    # Scale the numeric columns\n",
    "    df = scaling(df, df.select_dtypes(include=np.number).columns.tolist())\n",
    "    \n",
    "    return df"
   ]
  },
  {
   "cell_type": "code",
   "execution_count": 19,
   "id": "b0c7ccdf-7fd2-4f63-ba92-f372f23c3940",
   "metadata": {},
   "outputs": [],
   "source": [
    "# Feature engineer the training data\n",
    "\n",
    "X_train_fe = feature_eng(X_train)"
   ]
  },
  {
   "cell_type": "markdown",
   "id": "efc9467b-3d91-4c99-8128-89c0c15e392a",
   "metadata": {},
   "source": [
    "---"
   ]
  },
  {
   "cell_type": "markdown",
   "id": "3284baa1-0def-419e-82bb-ba130ebfccdb",
   "metadata": {},
   "source": [
    "## Model Creation and Evaluation"
   ]
  },
  {
   "cell_type": "code",
   "execution_count": 23,
   "id": "10b3a72b-e552-45a7-80d6-893e0f05d872",
   "metadata": {},
   "outputs": [
    {
     "name": "stdout",
     "output_type": "stream",
     "text": [
      "Selected Features: Index(['Sets', 'Reps', 'Difficulty_Beginner', 'Target_Biceps',\n",
      "       'Target_Full Body', 'Target_Glutes', 'Target_Legs', 'Target_Shoulders',\n",
      "       'Target_Triceps'],\n",
      "      dtype='object')\n"
     ]
    }
   ],
   "source": [
    "# Use RFE to suggest which features to use to minimise complexity whilst still maintaining a high R^2 value\n",
    "\n",
    "feature_cols = ['Sets', 'Reps', 'Total Reps',\n",
    "       'Equipment Needed', 'Difficulty_Beginner', 'Difficulty_Intermediate',\n",
    "       'Target_Biceps', 'Target_Chest', 'Target_Core', 'Target_Full Body',\n",
    "       'Target_Glutes', 'Target_Legs', 'Target_Shoulders', 'Target_Triceps']\n",
    "\n",
    "model = Ridge(alpha=0.3)\n",
    "selector = RFE(model, n_features_to_select=9)\n",
    "X_selected = selector.fit_transform(X_train_fe[feature_cols], y_train)\n",
    "selected_features = X_train_fe[feature_cols].columns[selector.support_]\n",
    "print(f\"Selected Features: {selected_features}\")"
   ]
  },
  {
   "cell_type": "code",
   "execution_count": 25,
   "id": "189c9974-4017-42aa-87bf-c01356bc53c6",
   "metadata": {},
   "outputs": [
    {
     "name": "stdout",
     "output_type": "stream",
     "text": [
      "The R^2 score for this model is 0.81\n",
      "The RMSE on the training data is 26.86\n",
      "The MAPE on the training data is 9.0%\n",
      "The MAE on the training data is 19.64\n",
      "The RMSE on the testing data is 27.81\n",
      "The MAPE on the testing data is 10.0%\n",
      "The MAE on the testing data is 22.94\n"
     ]
    }
   ],
   "source": [
    "# Use Ridge Regularisation (L2):\n",
    "    # If your dataset is not sparse or if you don’t need feature selection.\n",
    "    # When predictive performance is the main objective. \n",
    "\n",
    "# The columns suggested by RFE were chosen (except where Total Reps performed slightly better than Reps)\n",
    "feature_cols = ['Sets', 'Total Reps', 'Difficulty_Beginner', 'Target_Biceps', 'Target_Full Body',\n",
    "       'Target_Glutes', 'Target_Legs', 'Target_Shoulders', 'Target_Triceps']\n",
    "\n",
    "\n",
    "# Fit Ridge (L2 Regularization)\n",
    "ridge = Ridge(alpha=0.3)\n",
    "ridge.fit(X_train_fe[feature_cols], y_train)\n",
    "\n",
    "# Predictions and evaluation\n",
    "y_pred = ridge.predict(X_train_fe[feature_cols])\n",
    "rmse = metrics.root_mean_squared_error(y_train, y_pred)\n",
    "r2 = metrics.r2_score(y_train, y_pred)\n",
    "mape = metrics.mean_absolute_percentage_error(y_train, y_pred)\n",
    "mae = metrics.mean_absolute_error(y_train, y_pred)\n",
    "\n",
    "print(f\"The R^2 score for this model is {round(r2,2)}\")\n",
    "print(f\"The RMSE on the training data is {round(rmse,2)}\")\n",
    "print(f'The MAPE on the training data is {round(mape,2) * 100}%')\n",
    "print(f'The MAE on the training data is {round(mae,2)}')\n",
    "\n",
    "# Predictions and evaluation\n",
    "X_test_fe = feature_eng(X_test)\n",
    "\n",
    "# Get the columns that are not in X_test and fill them with 0\n",
    "missing_cols = set(feature_cols) - set(X_test_fe.columns)\n",
    "for col in missing_cols:\n",
    "    X_test_fe[col] = 0\n",
    "\n",
    "y_test_pred = ridge.predict(X_test_fe[feature_cols])\n",
    "rmse = metrics.root_mean_squared_error(y_test, y_test_pred)\n",
    "mape = metrics.mean_absolute_percentage_error(y_test, y_test_pred)\n",
    "mae = metrics.mean_absolute_error(y_test, y_test_pred)\n",
    "\n",
    "print(f\"The RMSE on the testing data is {round(rmse,2)}\")\n",
    "print(f'The MAPE on the testing data is {round(mape,2) * 100}%')\n",
    "print(f'The MAE on the testing data is {round(mae,2)}')"
   ]
  },
  {
   "cell_type": "markdown",
   "id": "7ec9fe2a-6c41-4578-8528-3c85e5e40eb0",
   "metadata": {},
   "source": [
    "### Check the assumptions of linear regression"
   ]
  },
  {
   "cell_type": "code",
   "execution_count": 27,
   "id": "fcbf108a-2ee9-4692-a61b-839ce25fbc7a",
   "metadata": {},
   "outputs": [
    {
     "data": {
      "image/png": "[encoded data removed]",
      "text/plain": [
       "<Figure size 800x350 with 2 Axes>"
      ]
     },
     "metadata": {},
     "output_type": "display_data"
    }
   ],
   "source": [
    "# Check the residuals have constant variance - one of the linear regression assumptions (homoscedasticity)\n",
    "\n",
    "# Calculate residuals for training and testing sets\n",
    "train_residuals = y_train - y_pred  # Replace y_train_pred with your train predictions\n",
    "test_residuals = y_test - y_test_pred    # Replace y_test_pred with your test predictions\n",
    "\n",
    "# Create subplots for side-by-side comparison\n",
    "fig, axes = plt.subplots(1, 2, figsize=(8, 3.5), sharey=True)\n",
    "\n",
    "# Residuals vs. Fitted Values for Training Set\n",
    "axes[0].scatter(y_pred, train_residuals, alpha=0.7, color = '#238A8DFF')\n",
    "axes[0].axhline(0, color='#481567FF', linestyle='--')\n",
    "axes[0].set_title('Training Set: Residuals vs. Fitted Values')\n",
    "axes[0].set_xlabel('Fitted Values')\n",
    "axes[0].set_ylabel('Residuals')\n",
    "\n",
    "# Residuals vs. Fitted Values for Testing Set\n",
    "axes[1].scatter(y_test_pred, test_residuals, alpha=0.7, color = '#238A8DFF')\n",
    "axes[1].axhline(0, color='#481567FF', linestyle='--')\n",
    "axes[1].set_title('Testing Set: Residuals vs. Fitted Values')\n",
    "axes[1].set_xlabel('Fitted Values')\n",
    "# Y-axis label is shared with the first plot\n",
    "\n",
    "# Adjust layout\n",
    "plt.tight_layout()\n",
    "plt.savefig('homoscedasticity', bbox_inches = 'tight')\n",
    "plt.show()"
   ]
  },
  {
   "cell_type": "code",
   "execution_count": 28,
   "id": "bdf6b972-1f40-4031-a295-561fc3c5c66d",
   "metadata": {},
   "outputs": [
    {
     "data": {
      "image/png": "[encoded data removed]",
      "text/plain": [
       "<Figure size 800x350 with 2 Axes>"
      ]
     },
     "metadata": {},
     "output_type": "display_data"
    }
   ],
   "source": [
    "# Check the residuals are normally distributed - one of the linear regression assumptions (normality)\n",
    "\n",
    "# Create subplots for side-by-side histograms\n",
    "fig, axes = plt.subplots(1, 2, figsize=(8, 3.5), sharey=True)\n",
    "\n",
    "# Training Set Histogram\n",
    "sns.histplot(train_residuals, kde=True, ax=axes[0], color=\"#238A8DFF\", bins=10)\n",
    "axes[0].set_title('Training Set: Histogram of Residuals')\n",
    "axes[0].set_xlabel('Residuals')\n",
    "axes[0].set_ylabel('Frequency')\n",
    "\n",
    "# Testing Set Histogram\n",
    "sns.histplot(test_residuals, kde=True, ax=axes[1], color=\"#238A8DFF\", bins=10)\n",
    "axes[1].set_title('Testing Set: Histogram of Residuals')\n",
    "axes[1].set_xlabel('Residuals')\n",
    "# Y-axis label is shared with the first plot\n",
    "\n",
    "# Adjust layout\n",
    "plt.tight_layout()\n",
    "plt.savefig('normality', bbox_inches = 'tight')\n",
    "plt.show()"
   ]
  },
  {
   "cell_type": "markdown",
   "id": "bd1985db-f07f-45bc-85c9-eccd27af7d79",
   "metadata": {},
   "source": [
    "### Save the model for use in Streamlit"
   ]
  },
  {
   "cell_type": "code",
   "execution_count": 30,
   "id": "8e42be81-71d9-4304-baae-624e3458d727",
   "metadata": {},
   "outputs": [],
   "source": [
    "# Save the model to a pickle file\n",
    "\n",
    "with open('LinRegModel.sav', 'wb') as file: \n",
    "    pickle.dump(ridge, file, protocol=pickle.HIGHEST_PROTOCOL)\n",
    "file.close()"
   ]
  }
 ],
 "metadata": {
  "kernelspec": {
   "display_name": "Python 3 (ipykernel)",
   "language": "python",
   "name": "python3"
  },
  "language_info": {
   "codemirror_mode": {
    "name": "ipython",
    "version": 3
   },
   "file_extension": ".py",
   "mimetype": "text/x-python",
   "name": "python",
   "nbconvert_exporter": "python",
   "pygments_lexer": "ipython3",
   "version": "3.12.7"
  }
 },
 "nbformat": 4,
 "nbformat_minor": 5
}
